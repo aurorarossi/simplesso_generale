{
 "cells": [
  {
   "cell_type": "code",
   "execution_count": 1,
   "metadata": {},
   "outputs": [],
   "source": [
    "import simplesso_generale as s"
   ]
  },
  {
   "cell_type": "code",
   "execution_count": 3,
   "metadata": {},
   "outputs": [
    {
     "data": {
      "text/latex": [
       "\\[ \n",
       "\\begin{array}{lccccccc}\n",
       "&x_1&x_2&x_3&s_1&s_2&s_3&b\\\\s_1&2&1&1&1&0&0&4\\\\\n",
       "s_2&1&2&1&0&1&0&7\\\\\n",
       "s_3&0&0&1&0&0&1&5\\\\\n",
       "c.c.r&2&3&2&0&0&0&0\\\\\n",
       "\n",
       "\\end{array}\n",
       "\\]"
      ],
      "text/plain": [
       "<IPython.core.display.Latex object>"
      ]
     },
     "metadata": {},
     "output_type": "display_data"
    },
    {
     "name": "stdout",
     "output_type": "stream",
     "text": [
      "\n",
      "Iterazione 1\n",
      "Variabile entrante:x_2\n",
      "Variabile uscente:s_2\n"
     ]
    },
    {
     "data": {
      "text/latex": [
       "\\[ \n",
       "\\begin{array}{lccccccc}\n",
       "&x_1&s_2&x_3&s_1&x_2&s_3&b\\\\s_1&3/2&-1/2&1/2&1&0&0&1/2\\\\\n",
       "x_2&1/2&1/2&1/2&0&1&0&7/2\\\\\n",
       "s_3&0&0&1&0&0&1&5\\\\\n",
       "c.c.r&1/2&-3/2&1/2&0&0&0&-21/2\\\\\n",
       "\n",
       "\\end{array}\n",
       "\\]"
      ],
      "text/plain": [
       "<IPython.core.display.Latex object>"
      ]
     },
     "metadata": {},
     "output_type": "display_data"
    },
    {
     "name": "stdout",
     "output_type": "stream",
     "text": [
      "\n",
      "Iterazione 2\n",
      "Variabile entrante:x_1\n",
      "Variabile uscente:s_1\n"
     ]
    },
    {
     "data": {
      "text/latex": [
       "\\[ \n",
       "\\begin{array}{lccccccc}\n",
       "&s_1&s_2&x_3&x_1&x_2&s_3&b\\\\x_1&2/3&-1/3&1/3&1&0&0&1/3\\\\\n",
       "x_2&-1/3&2/3&1/3&0&1&0&10/3\\\\\n",
       "s_3&0&0&1&0&0&1&5\\\\\n",
       "c.c.r&-1/3&-4/3&1/3&0&0&0&-32/3\\\\\n",
       "\n",
       "\\end{array}\n",
       "\\]"
      ],
      "text/plain": [
       "<IPython.core.display.Latex object>"
      ]
     },
     "metadata": {},
     "output_type": "display_data"
    },
    {
     "name": "stdout",
     "output_type": "stream",
     "text": [
      "\n",
      "Iterazione 3\n",
      "Variabile entrante:x_3\n",
      "Variabile uscente:x_1\n"
     ]
    },
    {
     "data": {
      "text/latex": [
       "\\[ \n",
       "\\begin{array}{lccccccc}\n",
       "&s_1&s_2&x_1&x_3&x_2&s_3&b\\\\x_3&2&-1&3&1&0&0&1\\\\\n",
       "x_2&-1&1&-1&0&1&0&3\\\\\n",
       "s_3&-2&1&-3&0&0&1&4\\\\\n",
       "c.c.r&-1&-1&-1&0&0&0&-11\\\\\n",
       "\n",
       "\\end{array}\n",
       "\\]"
      ],
      "text/plain": [
       "<IPython.core.display.Latex object>"
      ]
     },
     "metadata": {},
     "output_type": "display_data"
    },
    {
     "data": {
      "text/latex": [
       "\\[ \n",
       "\\begin{array}{lccccccc}\n",
       "&s_1&s_2&x_1&x_3&x_2&s_3&b\\\\x_3&2&-1&3&1&0&0&1\\\\\n",
       "x_2&-1&1&-1&0&1&0&3\\\\\n",
       "s_3&-2&1&-3&0&0&1&4\\\\\n",
       "c.c.r&-1&-1&-1&0&0&0&-11\\\\\n",
       "\n",
       "\\end{array}\n",
       "\\]"
      ],
      "text/plain": [
       "<IPython.core.display.Latex object>"
      ]
     },
     "metadata": {},
     "output_type": "display_data"
    }
   ],
   "source": [
    "#LATEX COMPLETO\n",
    "c = [2,3,2]\n",
    "b = [4,7,5]\n",
    "A = [[2,1,1], [1,2,1], [0,0,1]]\n",
    "t = s.Tableau(c,'max') \n",
    "for i in range(len(A)):\n",
    "    t.aggiungi_vincolo(A[i],b[i])\n",
    "t.crea_primo_tableau()\n",
    "t.mostra_tableau('completo','latex')\n",
    "nb_iter = 1\n",
    "while not t.is_optimal():\n",
    "    print('\\nIterazione ' + str(nb_iter))\n",
    "    t.step()\n",
    "    t.mostra_tableau('completo','latex')\n",
    "    nb_iter += 1"
   ]
  },
  {
   "cell_type": "code",
   "execution_count": 4,
   "metadata": {},
   "outputs": [
    {
     "data": {
      "text/latex": [
       "\\[ \n",
       "\\begin{array}{lcccc}\n",
       "&-&x_1&x_2&x_3\\\\z&0&2&3&2\\\\\n",
       "s_1&4&-2&-1&-1\\\\\n",
       "s_2&7&-1&-2&-1\\\\\n",
       "s_3&5&0&0&-1\\\\\n",
       "\n",
       "\\end{array}\n",
       "\\]"
      ],
      "text/plain": [
       "<IPython.core.display.Latex object>"
      ]
     },
     "metadata": {},
     "output_type": "display_data"
    },
    {
     "name": "stdout",
     "output_type": "stream",
     "text": [
      "\n",
      "Iterazione 1\n",
      "Variabile entrante:x_2\n",
      "Variabile uscente:s_2\n"
     ]
    },
    {
     "data": {
      "text/latex": [
       "\\[ \n",
       "\\begin{array}{lcccc}\n",
       "&-&x_1&s_2&x_3\\\\z&21/2&1/2&-3/2&1/2\\\\\n",
       "s_1&1/2&-3/2&1/2&-1/2\\\\\n",
       "x_2&7/2&-1/2&-1/2&-1/2\\\\\n",
       "s_3&5&0&0&-1\\\\\n",
       "\n",
       "\\end{array}\n",
       "\\]"
      ],
      "text/plain": [
       "<IPython.core.display.Latex object>"
      ]
     },
     "metadata": {},
     "output_type": "display_data"
    },
    {
     "name": "stdout",
     "output_type": "stream",
     "text": [
      "\n",
      "Iterazione 2\n",
      "Variabile entrante:x_1\n",
      "Variabile uscente:s_1\n"
     ]
    },
    {
     "data": {
      "text/latex": [
       "\\[ \n",
       "\\begin{array}{lcccc}\n",
       "&-&s_1&s_2&x_3\\\\z&32/3&-1/3&-4/3&1/3\\\\\n",
       "x_1&1/3&-2/3&1/3&-1/3\\\\\n",
       "x_2&10/3&1/3&-2/3&-1/3\\\\\n",
       "s_3&5&0&0&-1\\\\\n",
       "\n",
       "\\end{array}\n",
       "\\]"
      ],
      "text/plain": [
       "<IPython.core.display.Latex object>"
      ]
     },
     "metadata": {},
     "output_type": "display_data"
    },
    {
     "name": "stdout",
     "output_type": "stream",
     "text": [
      "\n",
      "Iterazione 3\n",
      "Variabile entrante:x_3\n",
      "Variabile uscente:x_1\n"
     ]
    },
    {
     "data": {
      "text/latex": [
       "\\[ \n",
       "\\begin{array}{lcccc}\n",
       "&-&s_1&s_2&x_1\\\\z&11&-1&-1&-1\\\\\n",
       "x_3&1&-2&1&-3\\\\\n",
       "x_2&3&1&-1&1\\\\\n",
       "s_3&4&2&-1&3\\\\\n",
       "\n",
       "\\end{array}\n",
       "\\]"
      ],
      "text/plain": [
       "<IPython.core.display.Latex object>"
      ]
     },
     "metadata": {},
     "output_type": "display_data"
    }
   ],
   "source": [
    "#LATEX CLASSICO\n",
    "c = [2,3,2]\n",
    "b = [4,7,5]\n",
    "A = [[2,1,1], [1,2,1], [0,0,1]]\n",
    "t = s.Tableau(c,'max') \n",
    "for i in range(len(A)):\n",
    "    t.aggiungi_vincolo(A[i],b[i])\n",
    "t.crea_primo_tableau()\n",
    "t.mostra_tableau('classico','latex')\n",
    "nb_iter = 1\n",
    "while not t.is_optimal():\n",
    "    print('\\nIterazione ' + str(nb_iter))\n",
    "    t.step()\n",
    "    t.mostra_tableau('classico','latex')\n",
    "    nb_iter += 1"
   ]
  },
  {
   "cell_type": "code",
   "execution_count": 5,
   "metadata": {},
   "outputs": [
    {
     "data": {
      "text/markdown": [
       "||-|x_1|x_2|\n",
       "|--|--|--|--|\n",
       "|z|\t0|\t3|\t2|\n",
       "|s_1|\t4|\t-2|\t-1|\n",
       "|s_2|\t2|\t2|\t-1|\n",
       "|s_3|\t1|\t-1|\t1|\n"
      ],
      "text/plain": [
       "<IPython.core.display.Markdown object>"
      ]
     },
     "metadata": {},
     "output_type": "display_data"
    },
    {
     "name": "stdout",
     "output_type": "stream",
     "text": [
      "\n",
      "Iterazione 1\n",
      "Variabile entrante:x_1\n",
      "Variabile uscente:s_3\n"
     ]
    },
    {
     "data": {
      "text/markdown": [
       "||-|s_3|x_2|\n",
       "|--|--|--|--|\n",
       "|z|\t3|\t-3|\t5|\n",
       "|s_1|\t2|\t2|\t-3|\n",
       "|s_2|\t4|\t-2|\t1|\n",
       "|x_1|\t1|\t-1|\t1|\n"
      ],
      "text/plain": [
       "<IPython.core.display.Markdown object>"
      ]
     },
     "metadata": {},
     "output_type": "display_data"
    },
    {
     "name": "stdout",
     "output_type": "stream",
     "text": [
      "\n",
      "Iterazione 2\n",
      "Variabile entrante:x_2\n",
      "Variabile uscente:s_1\n"
     ]
    },
    {
     "data": {
      "text/markdown": [
       "||-|s_3|s_1|\n",
       "|--|--|--|--|\n",
       "|z|\t19/3|\t1/3|\t-5/3|\n",
       "|x_2|\t2/3|\t2/3|\t-1/3|\n",
       "|s_2|\t14/3|\t-4/3|\t-1/3|\n",
       "|x_1|\t5/3|\t-1/3|\t-1/3|\n"
      ],
      "text/plain": [
       "<IPython.core.display.Markdown object>"
      ]
     },
     "metadata": {},
     "output_type": "display_data"
    },
    {
     "name": "stdout",
     "output_type": "stream",
     "text": [
      "\n",
      "Iterazione 3\n",
      "Variabile entrante:s_3\n",
      "Variabile uscente:s_2\n"
     ]
    },
    {
     "data": {
      "text/markdown": [
       "||-|s_2|s_1|\n",
       "|--|--|--|--|\n",
       "|z|\t15/2|\t-1/4|\t-7/4|\n",
       "|x_2|\t3|\t-1/2|\t-1/2|\n",
       "|s_3|\t7/2|\t-3/4|\t-1/4|\n",
       "|x_1|\t1/2|\t1/4|\t-1/4|\n"
      ],
      "text/plain": [
       "<IPython.core.display.Markdown object>"
      ]
     },
     "metadata": {},
     "output_type": "display_data"
    }
   ],
   "source": [
    "#MARKDOWN CLASSICO\n",
    "c = [3,2]\n",
    "b = [4,2,1]\n",
    "A = [[2,1], [-2,1], [1,-1]]\n",
    "t = s.Tableau(c,'max') \n",
    "for i in range(len(A)):\n",
    "    t.aggiungi_vincolo(A[i],b[i])\n",
    "t.crea_primo_tableau()\n",
    "t.mostra_tableau('classico','markdown')\n",
    "nb_iter = 1\n",
    "while not t.is_optimal():\n",
    "    print('\\nIterazione ' + str(nb_iter))\n",
    "    t.step()\n",
    "    t.mostra_tableau('classico','markdown')\n",
    "    nb_iter += 1"
   ]
  },
  {
   "cell_type": "code",
   "execution_count": 6,
   "metadata": {},
   "outputs": [
    {
     "data": {
      "text/markdown": [
       "||x_1|x_2|s_1|s_2|s_3|b|\n",
       "|--|--|--|--|--|--|--|\n",
       "|s_1|\t2|\t1|\t1|\t0|\t0|\t4|\n",
       "|s_2|\t-2|\t1|\t0|\t1|\t0|\t2|\n",
       "|s_3|\t1|\t-1|\t0|\t0|\t1|\t1|\n",
       "|c.c.r|\t3|\t2|\t0|\t0|\t0|\t0|\n"
      ],
      "text/plain": [
       "<IPython.core.display.Markdown object>"
      ]
     },
     "metadata": {},
     "output_type": "display_data"
    },
    {
     "name": "stdout",
     "output_type": "stream",
     "text": [
      "\n",
      "Iterazione 1\n",
      "Variabile entrante:x_1\n",
      "Variabile uscente:s_3\n"
     ]
    },
    {
     "data": {
      "text/markdown": [
       "||s_3|x_2|s_1|s_2|x_1|b|\n",
       "|--|--|--|--|--|--|--|\n",
       "|s_1|\t-2|\t3|\t1|\t0|\t0|\t2|\n",
       "|s_2|\t2|\t-1|\t0|\t1|\t0|\t4|\n",
       "|x_1|\t1|\t-1|\t0|\t0|\t1|\t1|\n",
       "|c.c.r|\t-3|\t5|\t0|\t0|\t0|\t-3|\n"
      ],
      "text/plain": [
       "<IPython.core.display.Markdown object>"
      ]
     },
     "metadata": {},
     "output_type": "display_data"
    },
    {
     "name": "stdout",
     "output_type": "stream",
     "text": [
      "\n",
      "Iterazione 2\n",
      "Variabile entrante:x_2\n",
      "Variabile uscente:s_1\n"
     ]
    },
    {
     "data": {
      "text/markdown": [
       "||s_3|s_1|x_2|s_2|x_1|b|\n",
       "|--|--|--|--|--|--|--|\n",
       "|x_2|\t-2/3|\t1/3|\t1|\t0|\t0|\t2/3|\n",
       "|s_2|\t4/3|\t1/3|\t0|\t1|\t0|\t14/3|\n",
       "|x_1|\t1/3|\t1/3|\t0|\t0|\t1|\t5/3|\n",
       "|c.c.r|\t1/3|\t-5/3|\t0|\t0|\t0|\t-19/3|\n"
      ],
      "text/plain": [
       "<IPython.core.display.Markdown object>"
      ]
     },
     "metadata": {},
     "output_type": "display_data"
    },
    {
     "name": "stdout",
     "output_type": "stream",
     "text": [
      "\n",
      "Iterazione 3\n",
      "Variabile entrante:s_3\n",
      "Variabile uscente:s_2\n"
     ]
    },
    {
     "data": {
      "text/markdown": [
       "||s_2|s_1|x_2|s_3|x_1|b|\n",
       "|--|--|--|--|--|--|--|\n",
       "|x_2|\t1/2|\t1/2|\t1|\t0|\t0|\t3|\n",
       "|s_3|\t3/4|\t1/4|\t0|\t1|\t0|\t7/2|\n",
       "|x_1|\t-1/4|\t1/4|\t0|\t0|\t1|\t1/2|\n",
       "|c.c.r|\t-1/4|\t-7/4|\t0|\t0|\t0|\t-15/2|\n"
      ],
      "text/plain": [
       "<IPython.core.display.Markdown object>"
      ]
     },
     "metadata": {},
     "output_type": "display_data"
    }
   ],
   "source": [
    "#MARKDOWN COMPLETO\n",
    "c = [3,2]\n",
    "b = [4,2,1]\n",
    "A = [[2,1], [-2,1], [1,-1]]\n",
    "t = s.Tableau(c,'max') \n",
    "for i in range(len(A)):\n",
    "    t.aggiungi_vincolo(A[i],b[i])\n",
    "t.crea_primo_tableau()\n",
    "t.mostra_tableau('completo','markdown')\n",
    "nb_iter = 1\n",
    "while not t.is_optimal():\n",
    "    print('\\nIterazione ' + str(nb_iter))\n",
    "    t.step()\n",
    "    t.mostra_tableau('completo','markdown')\n",
    "    nb_iter += 1"
   ]
  },
  {
   "cell_type": "code",
   "execution_count": null,
   "metadata": {},
   "outputs": [],
   "source": []
  }
 ],
 "metadata": {
  "hide_input": false,
  "kernelspec": {
   "display_name": "Python 3",
   "language": "python",
   "name": "python3"
  },
  "language_info": {
   "codemirror_mode": {
    "name": "ipython",
    "version": 3
   },
   "file_extension": ".py",
   "mimetype": "text/x-python",
   "name": "python",
   "nbconvert_exporter": "python",
   "pygments_lexer": "ipython3",
   "version": "3.7.6"
  }
 },
 "nbformat": 4,
 "nbformat_minor": 4
}
